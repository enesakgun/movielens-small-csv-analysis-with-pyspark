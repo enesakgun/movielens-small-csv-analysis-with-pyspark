{
 "cells": [
  {
   "cell_type": "code",
   "execution_count": 1,
   "id": "c8379a2d",
   "metadata": {},
   "outputs": [
    {
     "name": "stdout",
     "output_type": "stream",
     "text": [
      "Requirement already satisfied: pyspark in c:\\users\\enesa\\anaconda3\\lib\\site-packages (3.2.0)\n",
      "Requirement already satisfied: py4j==0.10.9.2 in c:\\users\\enesa\\anaconda3\\lib\\site-packages (from pyspark) (0.10.9.2)\n"
     ]
    }
   ],
   "source": [
    "!pip install pyspark\n",
    "\n"
   ]
  },
  {
   "cell_type": "code",
   "execution_count": 2,
   "id": "61a1f3f4",
   "metadata": {},
   "outputs": [],
   "source": [
    "import pyspark\n",
    "import matplotlib.pyplot as plt\n",
    "import pandas as pd\n",
    "import seaborn as sns\n",
    "from pyspark.sql import SparkSession\n",
    "spark = SparkSession.builder.appName('MovieLens').getOrCreate()"
   ]
  },
  {
   "cell_type": "code",
   "execution_count": 3,
   "id": "50d693a4",
   "metadata": {},
   "outputs": [
    {
     "name": "stdout",
     "output_type": "stream",
     "text": [
      "+------+-------+------+----------+\n",
      "|userId|movieId|rating| timestamp|\n",
      "+------+-------+------+----------+\n",
      "|     1|    296|   5.0|1147880044|\n",
      "|     1|    306|   3.5|1147868817|\n",
      "|     1|    307|   5.0|1147868828|\n",
      "|     1|    665|   5.0|1147878820|\n",
      "|     1|    899|   3.5|1147868510|\n",
      "+------+-------+------+----------+\n",
      "only showing top 5 rows\n",
      "\n"
     ]
    }
   ],
   "source": [
    "ratings = spark.read.option(\"header\", \"true\").csv(\"ml-25m/ratings.csv\")\n",
    "ratings.show(5)"
   ]
  },
  {
   "cell_type": "code",
   "execution_count": 8,
   "id": "b34dc3b5",
   "metadata": {},
   "outputs": [
    {
     "name": "stdout",
     "output_type": "stream",
     "text": [
      "+-------+--------------------+--------------------+\n",
      "|movieId|               title|              genres|\n",
      "+-------+--------------------+--------------------+\n",
      "|      1|    Toy Story (1995)|Adventure|Animati...|\n",
      "|      2|      Jumanji (1995)|Adventure|Childre...|\n",
      "|      3|Grumpier Old Men ...|      Comedy|Romance|\n",
      "|      4|Waiting to Exhale...|Comedy|Drama|Romance|\n",
      "|      5|Father of the Bri...|              Comedy|\n",
      "+-------+--------------------+--------------------+\n",
      "only showing top 5 rows\n",
      "\n"
     ]
    }
   ],
   "source": [
    "movies = spark.read.option(\"header\", \"true\").csv(\"ml-25m/movies.csv\")\n",
    "movies.show(5)"
   ]
  },
  {
   "cell_type": "code",
   "execution_count": 9,
   "id": "63892c61",
   "metadata": {},
   "outputs": [],
   "source": [
    "movies.createOrReplaceTempView(\"Movies\")\n",
    "ratings.createOrReplaceTempView(\"Ratings\")"
   ]
  },
  {
   "cell_type": "code",
   "execution_count": 10,
   "id": "2ae2add2",
   "metadata": {},
   "outputs": [
    {
     "name": "stdout",
     "output_type": "stream",
     "text": [
      "+------+-------+--------------------+------+\n",
      "|userId|movieId|              genres|rating|\n",
      "+------+-------+--------------------+------+\n",
      "|     1|    296|Comedy|Crime|Dram...|   5.0|\n",
      "|     1|    306|               Drama|   3.5|\n",
      "|     1|    307|               Drama|   5.0|\n",
      "|     1|    665|    Comedy|Drama|War|   5.0|\n",
      "|     1|    899|Comedy|Musical|Ro...|   3.5|\n",
      "|     1|   1088|Drama|Musical|Rom...|   4.0|\n",
      "|     1|   1175|Comedy|Drama|Romance|   3.5|\n",
      "|     1|   1217|           Drama|War|   3.5|\n",
      "|     1|   1237|               Drama|   5.0|\n",
      "|     1|   1250| Adventure|Drama|War|   4.0|\n",
      "|     1|   1260|Crime|Film-Noir|T...|   3.5|\n",
      "|     1|   1653|Drama|Sci-Fi|Thri...|   4.0|\n",
      "|     1|   2011|Adventure|Comedy|...|   2.5|\n",
      "|     1|   2012|Adventure|Comedy|...|   2.5|\n",
      "|     1|   2068|Drama|Fantasy|Mys...|   2.5|\n",
      "|     1|   2161|Adventure|Childre...|   3.5|\n",
      "|     1|   2351|               Drama|   4.5|\n",
      "|     1|   2573|       Drama|Musical|   4.0|\n",
      "|     1|   2632|Adventure|Drama|M...|   5.0|\n",
      "|     1|   2692|        Action|Crime|   5.0|\n",
      "+------+-------+--------------------+------+\n",
      "only showing top 20 rows\n",
      "\n"
     ]
    }
   ],
   "source": [
    "dataframe=spark.sql(\"select r.userId,m.movieId,m.genres,r.rating from Movies m inner join Ratings r on r.movieId=m.movieId\").show()"
   ]
  },
  {
   "cell_type": "code",
   "execution_count": 11,
   "id": "81ed76f4",
   "metadata": {},
   "outputs": [
    {
     "name": "stdout",
     "output_type": "stream",
     "text": [
      "+------+-------+--------------------+------+\n",
      "|userId|movieId|              genres|rating|\n",
      "+------+-------+--------------------+------+\n",
      "|     1|    296|Comedy|Crime|Dram...|   5.0|\n",
      "|     1|    306|               Drama|   3.5|\n",
      "|     1|    307|               Drama|   5.0|\n",
      "|     1|    665|    Comedy|Drama|War|   5.0|\n",
      "|     1|    899|Comedy|Musical|Ro...|   3.5|\n",
      "|     1|   1088|Drama|Musical|Rom...|   4.0|\n",
      "|     1|   1175|Comedy|Drama|Romance|   3.5|\n",
      "|     1|   1217|           Drama|War|   3.5|\n",
      "|     1|   1237|               Drama|   5.0|\n",
      "|     1|   1250| Adventure|Drama|War|   4.0|\n",
      "|     1|   1260|Crime|Film-Noir|T...|   3.5|\n",
      "|     1|   1653|Drama|Sci-Fi|Thri...|   4.0|\n",
      "|     1|   2011|Adventure|Comedy|...|   2.5|\n",
      "|     1|   2012|Adventure|Comedy|...|   2.5|\n",
      "|     1|   2068|Drama|Fantasy|Mys...|   2.5|\n",
      "|     1|   2161|Adventure|Childre...|   3.5|\n",
      "|     1|   2351|               Drama|   4.5|\n",
      "|     1|   2573|       Drama|Musical|   4.0|\n",
      "|     1|   2632|Adventure|Drama|M...|   5.0|\n",
      "|     1|   2692|        Action|Crime|   5.0|\n",
      "+------+-------+--------------------+------+\n",
      "only showing top 20 rows\n",
      "\n"
     ]
    }
   ],
   "source": [
    "dataframe=spark.sql(\"select r.userId,m.movieId,m.genres,r.rating from Movies m,Ratings r where r.movieId=m.movieId\").show()"
   ]
  },
  {
   "cell_type": "code",
   "execution_count": 19,
   "id": "b2baa773",
   "metadata": {},
   "outputs": [
    {
     "name": "stdout",
     "output_type": "stream",
     "text": [
      "+------------+--------------------+\n",
      "|CountRatings|           MovieName|\n",
      "+------------+--------------------+\n",
      "|       81491| Forrest Gump (1994)|\n",
      "|       81482|Shawshank Redempt...|\n",
      "|       79672| Pulp Fiction (1994)|\n",
      "|       74127|Silence of the La...|\n",
      "|       72674|  Matrix, The (1999)|\n",
      "+------------+--------------------+\n",
      "\n"
     ]
    }
   ],
   "source": [
    "spark.sql(\"\"\"select count(r.rating) CountRatings,m.title as MovieName from Movies m \n",
    "inner join Ratings r on r.movieId=m.movieId \n",
    "group by m.title order by count(r.rating) desc limit 5\"\"\").show()\n"
   ]
  },
  {
   "cell_type": "code",
   "execution_count": 21,
   "id": "abd0da1d",
   "metadata": {},
   "outputs": [
    {
     "name": "stdout",
     "output_type": "stream",
     "text": [
      "+---------+--------------------+\n",
      "|MostRated|              genres|\n",
      "+---------+--------------------+\n",
      "|      5.0|Adventure|Drama|S...|\n",
      "|      5.0|      Comedy|Romance|\n",
      "|      5.0|      Horror|Mystery|\n",
      "|      5.0|              Horror|\n",
      "|      5.0|Drama|Horror|Thri...|\n",
      "+---------+--------------------+\n",
      "\n"
     ]
    }
   ],
   "source": [
    "spark.sql(\"\"\"select r.rating MostRated,m.genres from Movies m \n",
    "inner join Ratings r on r.movieId=m.movieId  \n",
    "order by r.rating desc limit 5\"\"\").show()\n"
   ]
  },
  {
   "cell_type": "code",
   "execution_count": 12,
   "id": "ce9b32b5",
   "metadata": {
    "scrolled": true
   },
   "outputs": [
    {
     "name": "stdout",
     "output_type": "stream",
     "text": [
      "+-------------+------+\n",
      "|Frequentusers|userId|\n",
      "+-------------+------+\n",
      "|        32202| 72315|\n",
      "|         9178| 80974|\n",
      "|         8913|137293|\n",
      "|         7919| 33844|\n",
      "|         7488| 20055|\n",
      "+-------------+------+\n",
      "\n"
     ]
    }
   ],
   "source": [
    "spark.sql(\"\"\"select count(*) Frequentusers,userId from Movies m \n",
    "inner join Ratings r on r.movieId=m.movieId \n",
    "where CAST(TO_DATE(FROM_UNIXTIME(r.timestamp))as date)>CAST(TO_DATE(FROM_UNIXTIME(r.timestamp))as date) - interval '1' week \n",
    "group by userId \n",
    "order by count(*) desc   limit 5\"\"\").show()"
   ]
  },
  {
   "cell_type": "code",
   "execution_count": 16,
   "id": "a4833b3c",
   "metadata": {},
   "outputs": [
    {
     "name": "stdout",
     "output_type": "stream",
     "text": [
      "+--------------------+------------+\n",
      "|              genres|AvgOfRatings|\n",
      "+--------------------+------------+\n",
      "|Comedy|Crime|Dram...|         5.0|\n",
      "|Action|Drama|Myst...|         5.0|\n",
      "|Adventure|Drama|F...|         5.0|\n",
      "|Children|Comedy|D...|         5.0|\n",
      "|Fantasy|Horror|Ro...|         5.0|\n",
      "|Adventure|Fantasy...|         5.0|\n",
      "|Action|Comedy|Mys...|         5.0|\n",
      "|Adventure|Drama|R...|         5.0|\n",
      "|Animation|Crime|M...|       4.625|\n",
      "|Action|Children|D...|         4.5|\n",
      "+--------------------+------------+\n",
      "\n"
     ]
    }
   ],
   "source": [
    "table= spark.sql(\"\"\"\n",
    "\n",
    "select m.genres,avg(r.rating) as AvgOfRatings  from movies m\n",
    "inner join Ratings r on r.movieId=m.movieId\n",
    "group by m.genres order by AvgOfRatings desc limit 10\"\"\")\n",
    "\n",
    "table.show()\n",
    "plot=table.toPandas()\n"
   ]
  },
  {
   "cell_type": "code",
   "execution_count": 18,
   "id": "a1f1e7d2",
   "metadata": {},
   "outputs": [
    {
     "data": {
      "text/plain": [
       "<AxesSubplot:xlabel='AvgOfRatings', ylabel='genres'>"
      ]
     },
     "execution_count": 18,
     "metadata": {},
     "output_type": "execute_result"
    },
    {
     "data": {
      "image/png": "[encoded data removed]",
      "text/plain": [
       "<Figure size 432x288 with 1 Axes>"
      ]
     },
     "metadata": {
      "needs_background": "light"
     },
     "output_type": "display_data"
    }
   ],
   "source": [
    "sns.barplot(x=\"AvgOfRatings\",y = plot.genres,data=plot)"
   ]
  },
  {
   "cell_type": "code",
   "execution_count": 1,
   "id": "369b2bd7",
   "metadata": {},
   "outputs": [
    {
     "data": {
      "text/plain": [
       "'C:\\\\Users\\\\EnesA'"
      ]
     },
     "execution_count": 1,
     "metadata": {},
     "output_type": "execute_result"
    }
   ],
   "source": [
    "pwd"
   ]
  },
  {
   "cell_type": "code",
   "execution_count": null,
   "id": "d3ab6fec",
   "metadata": {},
   "outputs": [],
   "source": []
  }
 ],
 "metadata": {
  "kernelspec": {
   "display_name": "Python 3 (ipykernel)",
   "language": "python",
   "name": "python3"
  },
  "language_info": {
   "codemirror_mode": {
    "name": "ipython",
    "version": 3
   },
   "file_extension": ".py",
   "mimetype": "text/x-python",
   "name": "python",
   "nbconvert_exporter": "python",
   "pygments_lexer": "ipython3",
   "version": "3.9.7"
  }
 },
 "nbformat": 4,
 "nbformat_minor": 5
}
